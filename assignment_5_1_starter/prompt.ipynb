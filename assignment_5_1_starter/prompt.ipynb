{
 "cells": [
  {
   "cell_type": "markdown",
   "metadata": {},
   "source": [
    "### Will a Customer Accept the Coupon?\n",
    "\n",
    "**Context**\n",
    "\n",
    "Imagine driving through town and a coupon is delivered to your cell phone for a restaraunt near where you are driving. Would you accept that coupon and take a short detour to the restaraunt? Would you accept the coupon but use it on a sunbsequent trip? Would you ignore the coupon entirely? What if the coupon was for a bar instead of a restaraunt? What about a coffee house? Would you accept a bar coupon with a minor passenger in the car? What about if it was just you and your partner in the car? Would weather impact the rate of acceptance? What about the time of day?\n",
    "\n",
    "Obviously, proximity to the business is a factor on whether the coupon is delivered to the driver or not, but what are the factors that determine whether a driver accepts the coupon once it is delivered to them? How would you determine whether a driver is likely to accept a coupon?\n",
    "\n",
    "**Overview**\n",
    "\n",
    "The goal of this project is to use what you know about visualizations and probability distributions to distinguish between customers who accepted a driving coupon versus those that did not.\n",
    "\n",
    "**Data**\n",
    "\n",
    "This data comes to us from the UCI Machine Learning repository and was collected via a survey on Amazon Mechanical Turk. The survey describes different driving scenarios including the destination, current time, weather, passenger, etc., and then ask the person whether he will accept the coupon if he is the driver. Answers that the user will drive there ‘right away’ or ‘later before the coupon expires’ are labeled as ‘Y = 1’ and answers ‘no, I do not want the coupon’ are labeled as ‘Y = 0’.  There are five different types of coupons -- less expensive restaurants (under \\\\$20), coffee houses, carry out & take away, bar, and more expensive restaurants (\\\\$20 - \\\\$50). "
   ]
  },
  {
   "cell_type": "markdown",
   "metadata": {},
   "source": [
    "**Deliverables**\n",
    "\n",
    "Your final product should be a brief report that highlights the differences between customers who did and did not accept the coupons.  To explore the data you will utilize your knowledge of plotting, statistical summaries, and visualization using Python. You will publish your findings in a public facing github repository as your first portfolio piece. \n",
    "\n",
    "\n",
    "\n"
   ]
  },
  {
   "cell_type": "markdown",
   "metadata": {},
   "source": [
    "### Data Description\n",
    "Keep in mind that these values mentioned below are average values.\n",
    "\n",
    "The attributes of this data set include:\n",
    "1. User attributes\n",
    "    -  Gender: male, female\n",
    "    -  Age: below 21, 21 to 25, 26 to 30, etc.\n",
    "    -  Marital Status: single, married partner, unmarried partner, or widowed\n",
    "    -  Number of children: 0, 1, or more than 1\n",
    "    -  Education: high school, bachelors degree, associates degree, or graduate degree\n",
    "    -  Occupation: architecture & engineering, business & financial, etc.\n",
    "    -  Annual income: less than \\\\$12500, \\\\$12500 - \\\\$24999, \\\\$25000 - \\\\$37499, etc.\n",
    "    -  Number of times that he/she goes to a bar: 0, less than 1, 1 to 3, 4 to 8 or greater than 8\n",
    "    -  Number of times that he/she buys takeaway food: 0, less than 1, 1 to 3, 4 to 8 or greater\n",
    "    than 8\n",
    "    -  Number of times that he/she goes to a coffee house: 0, less than 1, 1 to 3, 4 to 8 or\n",
    "    greater than 8\n",
    "    -  Number of times that he/she eats at a restaurant with average expense less than \\\\$20 per\n",
    "    person: 0, less than 1, 1 to 3, 4 to 8 or greater than 8\n",
    "    -  Number of times that he/she goes to a bar: 0, less than 1, 1 to 3, 4 to 8 or greater than 8\n",
    "    \n",
    "\n",
    "2. Contextual attributes\n",
    "    - Driving destination: home, work, or no urgent destination\n",
    "    - Location of user, coupon and destination: we provide a map to show the geographical\n",
    "    location of the user, destination, and the venue, and we mark the distance between each\n",
    "    two places with time of driving. The user can see whether the venue is in the same\n",
    "    direction as the destination.\n",
    "    - Weather: sunny, rainy, or snowy\n",
    "    - Temperature: 30F, 55F, or 80F\n",
    "    - Time: 10AM, 2PM, or 6PM\n",
    "    - Passenger: alone, partner, kid(s), or friend(s)\n",
    "\n",
    "\n",
    "3. Coupon attributes\n",
    "    - time before it expires: 2 hours or one day"
   ]
  },
  {
   "cell_type": "code",
   "execution_count": 97,
   "metadata": {
    "ExecuteTime": {
     "end_time": "2024-03-03T23:29:49.769033Z",
     "start_time": "2024-03-03T23:29:49.765003Z"
    }
   },
   "outputs": [],
   "source": [
    "import matplotlib.pyplot as plt\n",
    "import seaborn as sns\n",
    "import pandas as pd\n",
    "import numpy as np"
   ]
  },
  {
   "cell_type": "markdown",
   "metadata": {},
   "source": [
    "### Problems\n",
    "\n",
    "Use the prompts below to get started with your data analysis.  \n",
    "\n",
    "1. Read in the `coupons.csv` file.\n",
    "\n",
    "\n"
   ]
  },
  {
   "cell_type": "code",
   "execution_count": 98,
   "metadata": {
    "ExecuteTime": {
     "end_time": "2024-03-03T23:29:50.863254Z",
     "start_time": "2024-03-03T23:29:50.835567Z"
    }
   },
   "outputs": [],
   "source": [
    "data = pd.read_csv('data/coupons.csv')"
   ]
  },
  {
   "cell_type": "code",
   "execution_count": 99,
   "metadata": {
    "ExecuteTime": {
     "end_time": "2024-03-03T23:29:51.415523Z",
     "start_time": "2024-03-03T23:29:51.399610Z"
    }
   },
   "outputs": [
    {
     "data": {
      "text/plain": "       destination  passanger weather  temperature  time  \\\n0  No Urgent Place      Alone   Sunny           55   2PM   \n1  No Urgent Place  Friend(s)   Sunny           80  10AM   \n2  No Urgent Place  Friend(s)   Sunny           80  10AM   \n3  No Urgent Place  Friend(s)   Sunny           80   2PM   \n4  No Urgent Place  Friend(s)   Sunny           80   2PM   \n\n                  coupon expiration  gender age      maritalStatus  ...  \\\n0        Restaurant(<20)         1d  Female  21  Unmarried partner  ...   \n1           Coffee House         2h  Female  21  Unmarried partner  ...   \n2  Carry out & Take away         2h  Female  21  Unmarried partner  ...   \n3           Coffee House         2h  Female  21  Unmarried partner  ...   \n4           Coffee House         1d  Female  21  Unmarried partner  ...   \n\n   CoffeeHouse CarryAway RestaurantLessThan20 Restaurant20To50  \\\n0        never       NaN                  4~8              1~3   \n1        never       NaN                  4~8              1~3   \n2        never       NaN                  4~8              1~3   \n3        never       NaN                  4~8              1~3   \n4        never       NaN                  4~8              1~3   \n\n  toCoupon_GEQ5min toCoupon_GEQ15min toCoupon_GEQ25min direction_same  \\\n0                1                 0                 0              0   \n1                1                 0                 0              0   \n2                1                 1                 0              0   \n3                1                 1                 0              0   \n4                1                 1                 0              0   \n\n  direction_opp  Y  \n0             1  1  \n1             1  0  \n2             1  1  \n3             1  0  \n4             1  0  \n\n[5 rows x 26 columns]",
      "text/html": "<div>\n<style scoped>\n    .dataframe tbody tr th:only-of-type {\n        vertical-align: middle;\n    }\n\n    .dataframe tbody tr th {\n        vertical-align: top;\n    }\n\n    .dataframe thead th {\n        text-align: right;\n    }\n</style>\n<table border=\"1\" class=\"dataframe\">\n  <thead>\n    <tr style=\"text-align: right;\">\n      <th></th>\n      <th>destination</th>\n      <th>passanger</th>\n      <th>weather</th>\n      <th>temperature</th>\n      <th>time</th>\n      <th>coupon</th>\n      <th>expiration</th>\n      <th>gender</th>\n      <th>age</th>\n      <th>maritalStatus</th>\n      <th>...</th>\n      <th>CoffeeHouse</th>\n      <th>CarryAway</th>\n      <th>RestaurantLessThan20</th>\n      <th>Restaurant20To50</th>\n      <th>toCoupon_GEQ5min</th>\n      <th>toCoupon_GEQ15min</th>\n      <th>toCoupon_GEQ25min</th>\n      <th>direction_same</th>\n      <th>direction_opp</th>\n      <th>Y</th>\n    </tr>\n  </thead>\n  <tbody>\n    <tr>\n      <th>0</th>\n      <td>No Urgent Place</td>\n      <td>Alone</td>\n      <td>Sunny</td>\n      <td>55</td>\n      <td>2PM</td>\n      <td>Restaurant(&lt;20)</td>\n      <td>1d</td>\n      <td>Female</td>\n      <td>21</td>\n      <td>Unmarried partner</td>\n      <td>...</td>\n      <td>never</td>\n      <td>NaN</td>\n      <td>4~8</td>\n      <td>1~3</td>\n      <td>1</td>\n      <td>0</td>\n      <td>0</td>\n      <td>0</td>\n      <td>1</td>\n      <td>1</td>\n    </tr>\n    <tr>\n      <th>1</th>\n      <td>No Urgent Place</td>\n      <td>Friend(s)</td>\n      <td>Sunny</td>\n      <td>80</td>\n      <td>10AM</td>\n      <td>Coffee House</td>\n      <td>2h</td>\n      <td>Female</td>\n      <td>21</td>\n      <td>Unmarried partner</td>\n      <td>...</td>\n      <td>never</td>\n      <td>NaN</td>\n      <td>4~8</td>\n      <td>1~3</td>\n      <td>1</td>\n      <td>0</td>\n      <td>0</td>\n      <td>0</td>\n      <td>1</td>\n      <td>0</td>\n    </tr>\n    <tr>\n      <th>2</th>\n      <td>No Urgent Place</td>\n      <td>Friend(s)</td>\n      <td>Sunny</td>\n      <td>80</td>\n      <td>10AM</td>\n      <td>Carry out &amp; Take away</td>\n      <td>2h</td>\n      <td>Female</td>\n      <td>21</td>\n      <td>Unmarried partner</td>\n      <td>...</td>\n      <td>never</td>\n      <td>NaN</td>\n      <td>4~8</td>\n      <td>1~3</td>\n      <td>1</td>\n      <td>1</td>\n      <td>0</td>\n      <td>0</td>\n      <td>1</td>\n      <td>1</td>\n    </tr>\n    <tr>\n      <th>3</th>\n      <td>No Urgent Place</td>\n      <td>Friend(s)</td>\n      <td>Sunny</td>\n      <td>80</td>\n      <td>2PM</td>\n      <td>Coffee House</td>\n      <td>2h</td>\n      <td>Female</td>\n      <td>21</td>\n      <td>Unmarried partner</td>\n      <td>...</td>\n      <td>never</td>\n      <td>NaN</td>\n      <td>4~8</td>\n      <td>1~3</td>\n      <td>1</td>\n      <td>1</td>\n      <td>0</td>\n      <td>0</td>\n      <td>1</td>\n      <td>0</td>\n    </tr>\n    <tr>\n      <th>4</th>\n      <td>No Urgent Place</td>\n      <td>Friend(s)</td>\n      <td>Sunny</td>\n      <td>80</td>\n      <td>2PM</td>\n      <td>Coffee House</td>\n      <td>1d</td>\n      <td>Female</td>\n      <td>21</td>\n      <td>Unmarried partner</td>\n      <td>...</td>\n      <td>never</td>\n      <td>NaN</td>\n      <td>4~8</td>\n      <td>1~3</td>\n      <td>1</td>\n      <td>1</td>\n      <td>0</td>\n      <td>0</td>\n      <td>1</td>\n      <td>0</td>\n    </tr>\n  </tbody>\n</table>\n<p>5 rows × 26 columns</p>\n</div>"
     },
     "execution_count": 99,
     "metadata": {},
     "output_type": "execute_result"
    }
   ],
   "source": [
    "data.head()"
   ]
  },
  {
   "cell_type": "markdown",
   "source": [
    "2. Investigate the dataset for missing or problematic data."
   ],
   "metadata": {
    "collapsed": false
   }
  },
  {
   "cell_type": "markdown",
   "source": [
    "I will leverage the sweetviz library for initial investigation:"
   ],
   "metadata": {
    "collapsed": false
   }
  },
  {
   "cell_type": "code",
   "outputs": [
    {
     "data": {
      "text/plain": "                                             |          | [  0%]   00:00 -> (? left)",
      "application/vnd.jupyter.widget-view+json": {
       "version_major": 2,
       "version_minor": 0,
       "model_id": "fb34ae9708174f799ea655734ecddf34"
      }
     },
     "metadata": {},
     "output_type": "display_data"
    },
    {
     "name": "stdout",
     "output_type": "stream",
     "text": [
      "Report SWEETVIZ_REPORT.html was generated! NOTEBOOK/COLAB USERS: the web browser MAY not pop up, regardless, the report IS saved in your notebook/colab files.\n"
     ]
    }
   ],
   "source": [
    "import sweetviz as sv\n",
    "\n",
    "my_report = sv.analyze(data)\n",
    "my_report.show_html()"
   ],
   "metadata": {
    "collapsed": false,
    "ExecuteTime": {
     "end_time": "2024-03-03T23:29:57.562356Z",
     "start_time": "2024-03-03T23:29:53.022192Z"
    }
   },
   "execution_count": 100
  },
  {
   "cell_type": "markdown",
   "source": [
    "From the SweetViz report it appears that the primary data issues are:\n",
    "\n",
    "    - 'car' column missing values (>99% unpopulated)\n",
    "    - 74 duplicate rows \n",
    "    \n",
    "Ref: SWEETVIZ_REPORT1.html in git repo.\n",
    "\n",
    "Let's confirm with code:"
   ],
   "metadata": {
    "collapsed": false
   }
  },
  {
   "cell_type": "code",
   "execution_count": 101,
   "metadata": {
    "ExecuteTime": {
     "end_time": "2024-03-03T23:30:13.673480Z",
     "start_time": "2024-03-03T23:30:13.665589Z"
    }
   },
   "outputs": [
    {
     "name": "stdout",
     "output_type": "stream",
     "text": [
      "destination                 0\n",
      "passanger                   0\n",
      "weather                     0\n",
      "temperature                 0\n",
      "time                        0\n",
      "coupon                      0\n",
      "expiration                  0\n",
      "gender                      0\n",
      "age                         0\n",
      "maritalStatus               0\n",
      "has_children                0\n",
      "education                   0\n",
      "occupation                  0\n",
      "income                      0\n",
      "car                     12576\n",
      "Bar                       107\n",
      "CoffeeHouse               217\n",
      "CarryAway                 151\n",
      "RestaurantLessThan20      130\n",
      "Restaurant20To50          189\n",
      "toCoupon_GEQ5min            0\n",
      "toCoupon_GEQ15min           0\n",
      "toCoupon_GEQ25min           0\n",
      "direction_same              0\n",
      "direction_opp               0\n",
      "Y                           0\n",
      "dtype: int64\n"
     ]
    }
   ],
   "source": [
    "# Check for missing values\n",
    "data_missing_values = data.isnull().sum()\n",
    "\n",
    "print(data_missing_values)"
   ]
  },
  {
   "cell_type": "markdown",
   "source": [
    "Missing data: With approximately 99% of the values for 'car' being blank it isn't really adding much value to the dataset. The other columns missing values are missing so few values (i.e. less than 2%) that I am assuming this will not have a significant impact overall."
   ],
   "metadata": {
    "collapsed": false
   }
  },
  {
   "cell_type": "code",
   "outputs": [
    {
     "name": "stdout",
     "output_type": "stream",
     "text": [
      "Duplicate rows:  74\n"
     ]
    }
   ],
   "source": [
    "# Check for duplicate rows\n",
    "data_duplicates = data.duplicated().sum()\n",
    "\n",
    "print('Duplicate rows: ', data_duplicates)"
   ],
   "metadata": {
    "collapsed": false,
    "ExecuteTime": {
     "end_time": "2024-03-03T23:30:15.020814Z",
     "start_time": "2024-03-03T23:30:15.009665Z"
    }
   },
   "execution_count": 102
  },
  {
   "cell_type": "markdown",
   "source": [
    "Duplicates: There are 74 duplicate rows. This is survey, and it is quite possible that there will be duplicates. We will keep the duplicates as we are interested in every response."
   ],
   "metadata": {
    "collapsed": false
   }
  },
  {
   "cell_type": "markdown",
   "metadata": {},
   "source": [
    "3. Decide what to do about your missing data -- drop, replace, other..."
   ]
  },
  {
   "cell_type": "code",
   "execution_count": 103,
   "metadata": {
    "ExecuteTime": {
     "end_time": "2024-03-03T23:30:17.068986Z",
     "start_time": "2024-03-03T23:30:17.067050Z"
    }
   },
   "outputs": [
    {
     "name": "stdout",
     "output_type": "stream",
     "text": [
      "(12684, 26)\n",
      "(12684, 25)\n"
     ]
    }
   ],
   "source": [
    "# Drop the car column\n",
    "print(data.shape)\n",
    "data = data.drop(columns=['car'])\n",
    "print(data.shape)"
   ]
  },
  {
   "cell_type": "markdown",
   "metadata": {},
   "source": [
    "4. What proportion of the total observations chose to accept the coupon? "
   ]
  },
  {
   "cell_type": "code",
   "outputs": [
    {
     "name": "stdout",
     "output_type": "stream",
     "text": [
      "Y\n",
      "1    7210\n",
      "0    5474\n",
      "Name: count, dtype: int64\n",
      "<class 'pandas.core.series.Series'>\n"
     ]
    }
   ],
   "source": [
    "# Evaluate value_counts on 'Y' column  \n",
    "print(data['Y'].value_counts())\n",
    "print(type(data['Y'].value_counts()))"
   ],
   "metadata": {
    "collapsed": false,
    "ExecuteTime": {
     "end_time": "2024-03-03T23:30:18.387169Z",
     "start_time": "2024-03-03T23:30:18.384299Z"
    }
   },
   "execution_count": 104
  },
  {
   "cell_type": "code",
   "execution_count": 105,
   "metadata": {
    "ExecuteTime": {
     "end_time": "2024-03-03T23:30:18.968106Z",
     "start_time": "2024-03-03T23:30:18.965262Z"
    }
   },
   "outputs": [
    {
     "name": "stdout",
     "output_type": "stream",
     "text": [
      "# coupons accepted:  7210\n",
      "# coupons total:  12684\n",
      "Proportion of the total observations that chose to accept the coupon:  0.5684326710816777\n"
     ]
    }
   ],
   "source": [
    "print('# coupons accepted: ',data['Y'].value_counts()[1])\n",
    "print('# coupons total: ',data.shape[0])\n",
    "\n",
    "# Proportion of accepted vs total\n",
    "accepted_vs_total = data['Y'].value_counts()[1]/data.shape[0]\n",
    "\n",
    "print('Proportion of the total observations that chose to accept the coupon: ', accepted_vs_total)"
   ]
  },
  {
   "cell_type": "markdown",
   "source": [
    "The coupon was accepted approximately 57% of the time."
   ],
   "metadata": {
    "collapsed": false
   }
  },
  {
   "cell_type": "markdown",
   "metadata": {},
   "source": [
    "5. Use a bar plot to visualize the `coupon` column."
   ]
  },
  {
   "cell_type": "code",
   "execution_count": 106,
   "metadata": {
    "ExecuteTime": {
     "end_time": "2024-03-03T23:30:20.999858Z",
     "start_time": "2024-03-03T23:30:20.923943Z"
    }
   },
   "outputs": [
    {
     "data": {
      "text/plain": "<Figure size 640x480 with 1 Axes>",
      "image/png": "[encoded data removed]"
     },
     "metadata": {},
     "output_type": "display_data"
    }
   ],
   "source": [
    "# Visualize the coupon column using a bar plot\n",
    "data['coupon'].value_counts().plot(kind='bar')\n",
    "plt.title('Coupon Type Distribution')\n",
    "plt.xlabel('Coupon Type')\n",
    "plt.ylabel('Count')\n",
    "plt.xticks(rotation=45)\n",
    "plt.show()"
   ]
  },
  {
   "cell_type": "markdown",
   "metadata": {},
   "source": [
    "6. Use a histogram to visualize the temperature column."
   ]
  },
  {
   "cell_type": "code",
   "execution_count": 107,
   "metadata": {
    "ExecuteTime": {
     "end_time": "2024-03-03T23:30:22.895895Z",
     "start_time": "2024-03-03T23:30:22.840577Z"
    }
   },
   "outputs": [
    {
     "data": {
      "text/plain": "<Figure size 640x480 with 1 Axes>",
      "image/png": "[encoded data removed]"
     },
     "metadata": {},
     "output_type": "display_data"
    }
   ],
   "source": [
    "data['temperature'].hist()\n",
    "plt.title('Temperature Distribution')\n",
    "plt.xlabel('Temperature')\n",
    "plt.ylabel('Count')\n",
    "plt.grid(False)\n",
    "plt.show()"
   ]
  },
  {
   "cell_type": "markdown",
   "metadata": {},
   "source": [
    "**Investigating the Bar Coupons**\n",
    "\n",
    "Now, we will lead you through an exploration of just the bar related coupons.  \n",
    "\n",
    "1. Create a new `DataFrame` that contains just the bar coupons.\n"
   ]
  },
  {
   "cell_type": "code",
   "execution_count": 108,
   "metadata": {
    "ExecuteTime": {
     "end_time": "2024-03-03T23:30:24.449137Z",
     "start_time": "2024-03-03T23:30:24.445692Z"
    }
   },
   "outputs": [],
   "source": [
    "# Build bar coupon DataFrame\n",
    "data_bar_coupon = data[data['coupon']=='Bar']"
   ]
  },
  {
   "cell_type": "markdown",
   "metadata": {},
   "source": [
    "2. What proportion of bar coupons were accepted?\n"
   ]
  },
  {
   "cell_type": "code",
   "outputs": [
    {
     "name": "stdout",
     "output_type": "stream",
     "text": [
      "Y\n",
      "0    1190\n",
      "1     827\n",
      "Name: count, dtype: int64\n",
      "<class 'pandas.core.series.Series'>\n"
     ]
    }
   ],
   "source": [
    "# Evaluate value_counts on Y column\n",
    "print(data_bar_coupon['Y'].value_counts())\n",
    "print(type(data_bar_coupon['Y'].value_counts()))"
   ],
   "metadata": {
    "collapsed": false,
    "ExecuteTime": {
     "end_time": "2024-03-03T23:30:25.666417Z",
     "start_time": "2024-03-03T23:30:25.659033Z"
    }
   },
   "execution_count": 109
  },
  {
   "cell_type": "code",
   "execution_count": 110,
   "metadata": {
    "ExecuteTime": {
     "end_time": "2024-03-03T23:30:26.248904Z",
     "start_time": "2024-03-03T23:30:26.245186Z"
    }
   },
   "outputs": [
    {
     "name": "stdout",
     "output_type": "stream",
     "text": [
      "# Bar coupons accepted:  827\n",
      "# Bar coupons total:  2017\n",
      "Proportion of the total observations that chose to accept the coupon:  0.41001487357461575\n"
     ]
    }
   ],
   "source": [
    "print('# Bar coupons accepted: ',data_bar_coupon['Y'].value_counts()[1])\n",
    "print('# Bar coupons total: ',data_bar_coupon.shape[0])\n",
    "\n",
    "# Proportion of accepted vs total\n",
    "bar_accepted_vs_total = data_bar_coupon['Y'].value_counts()[1]/data_bar_coupon.shape[0]\n",
    "\n",
    "print('Proportion of the total observations that chose to accept the coupon: ', bar_accepted_vs_total)"
   ]
  },
  {
   "cell_type": "markdown",
   "source": [
    "The bar coupon was accepted approximately 41% of the time."
   ],
   "metadata": {
    "collapsed": false
   }
  },
  {
   "cell_type": "markdown",
   "metadata": {},
   "source": [
    "3. Compare the acceptance rate between those who went to a bar 3 or fewer times a month to those who went more.\n"
   ]
  },
  {
   "cell_type": "code",
   "execution_count": 111,
   "metadata": {
    "ExecuteTime": {
     "end_time": "2024-03-03T23:30:28.055596Z",
     "start_time": "2024-03-03T23:30:28.050525Z"
    }
   },
   "outputs": [
    {
     "name": "stdout",
     "output_type": "stream",
     "text": [
      "Acceptance Rate for 3 or fewer times a month: 0.37061769616026713\n",
      "Acceptance Rate for more than 3 times a month: 0.7688442211055276\n"
     ]
    }
   ],
   "source": [
    "# Filter the dataset based on the frequency of going to a bar\n",
    "data_bar_3_or_less = data_bar_coupon[data_bar_coupon['Bar'].isin(['never', 'less1', '1~3'])]\n",
    "data_bar_more_than_3 = data_bar_coupon[data_bar_coupon['Bar'].isin(['4~8', 'gt8'])]\n",
    "\n",
    "# Calculate acceptance rates for both groups\n",
    "acceptance_rate_3_or_less = data_bar_3_or_less['Y'].mean()\n",
    "acceptance_rate_more_than_3 = data_bar_more_than_3['Y'].mean()\n",
    "\n",
    "print('Acceptance Rate for 3 or fewer times a month:', acceptance_rate_3_or_less)\n",
    "print('Acceptance Rate for more than 3 times a month:', acceptance_rate_more_than_3)"
   ]
  },
  {
   "cell_type": "markdown",
   "source": [
    "The bar coupon was accepted approximately 37% of the time by people who went to the bar 3 or fewer times a month.\n",
    "\n",
    "The bar coupon was accepted approximately 76% of the time by people who went to the bar more than 3 times a month.\n",
    "\n",
    "Note: There is a subset of observations for which no bar attendance data is available, i.e. blank. These have been excluded for the purposes of answering the question."
   ],
   "metadata": {
    "collapsed": false
   }
  },
  {
   "cell_type": "markdown",
   "metadata": {},
   "source": [
    "4. Compare the acceptance rate between drivers who go to a bar more than once a month and are over the age of 25 to the all others.  Is there a difference?\n"
   ]
  },
  {
   "cell_type": "code",
   "execution_count": 112,
   "metadata": {
    "ExecuteTime": {
     "end_time": "2024-03-03T23:30:29.961027Z",
     "start_time": "2024-03-03T23:30:29.947166Z"
    }
   },
   "outputs": [
    {
     "name": "stdout",
     "output_type": "stream",
     "text": [
      "Acceptance Rate for drivers who go to a bar more than once a month and are over the age of 25: 0.6952380952380952\n",
      "Acceptance Rate for all others: 0.33500313087038197\n"
     ]
    }
   ],
   "source": [
    "# Need to handle 'below21' and '50plus' values in the 'age' column - set 'below21' = 20 and '50plus' = 50 \n",
    "# Add new column 'age_numeric' with numeric values for age \n",
    "data['age_numeric'] = data['age'].replace({'below21': 20, '50plus': 50}).astype(int)\n",
    "\n",
    "# Refresh bar coupon slice to incorporate age_numeric column\n",
    "data_bar_coupon = data[data['coupon']=='Bar']\n",
    "\n",
    "# Filter the dataset for drivers who go to a bar more than once a month and are over the age of 25\n",
    "data_target_group = data_bar_coupon[(data_bar_coupon['Bar'].isin(['1~3', '4~8', 'gt8'])) & (data_bar_coupon['age_numeric'] > 25)]\n",
    "\n",
    "# Filter the dataset for all others\n",
    "data_other_group = data_bar_coupon[~((data_bar_coupon['Bar'].isin(['1~3', '4~8', 'gt8'])) & (data_bar_coupon['age_numeric'] > 25))]\n",
    "\n",
    "# Calculate acceptance rates for both groups\n",
    "acceptance_rate_target_group = data_target_group['Y'].mean()\n",
    "acceptance_rate_other_group = data_other_group['Y'].mean()\n",
    "print('Acceptance Rate for drivers who go to a bar more than once a month and are over the age of 25:', acceptance_rate_target_group)\n",
    "print('Acceptance Rate for all others:', acceptance_rate_other_group)"
   ]
  },
  {
   "cell_type": "markdown",
   "source": [
    "The bar coupon was accepted approximately 70% of the time by drivers who go to the bar more than once a month and are over the age of 25.\n",
    "\n",
    "The bar coupon was accepted approximately 34% of the time by all other drivers.\n",
    "\n",
    "Drivers who go to the bar more than once a month and are over 21 are more likely to accept the bar coupon."
   ],
   "metadata": {
    "collapsed": false
   }
  },
  {
   "cell_type": "markdown",
   "metadata": {},
   "source": [
    "5. Use the same process to compare the acceptance rate between drivers who go to bars more than once a month and had passengers that were not a kid and had occupations other than farming, fishing, or forestry. \n"
   ]
  },
  {
   "cell_type": "code",
   "execution_count": 113,
   "metadata": {
    "ExecuteTime": {
     "end_time": "2024-03-03T23:30:31.932668Z",
     "start_time": "2024-03-03T23:30:31.919950Z"
    }
   },
   "outputs": [
    {
     "name": "stdout",
     "output_type": "stream",
     "text": [
      "Acceptance Rate for specified group: 0.7132486388384754\n",
      "Acceptance Rate for all others: 0.5618560949476634\n"
     ]
    }
   ],
   "source": [
    "# Filter the dataset based on the specified conditions\n",
    "filtered_data = data_bar_coupon[(data_bar_coupon['Bar'].isin(['1~3', '4~8', 'gt8'])) & (data_bar_coupon['passanger'] != 'Kid(s)') & (~data_bar_coupon['occupation'].isin(['Farming Fishing & Forestry']))]\n",
    "\n",
    "# Calculate acceptance rates for the filtered group\n",
    "acceptance_rate_filtered = filtered_data['Y'].mean()\n",
    "\n",
    "# Calculate acceptance rates for all others\n",
    "acceptance_rate_others = data[~data.index.isin(filtered_data.index)]['Y'].mean()\n",
    "\n",
    "print('Acceptance Rate for specified group:', acceptance_rate_filtered)\n",
    "print('Acceptance Rate for all others:', acceptance_rate_others)"
   ]
  },
  {
   "cell_type": "markdown",
   "source": [
    "The bar coupon was accepted approximately 71% of the time by drivers who go to the bar more than once a month, had passengers that were not a kid, and had occupations other than farming, fishing, or forestry.\n",
    "\n",
    "The bar coupon was accepted approximately 56% of the time by all other drivers."
   ],
   "metadata": {
    "collapsed": false
   }
  },
  {
   "cell_type": "markdown",
   "source": [],
   "metadata": {
    "collapsed": false
   }
  },
  {
   "cell_type": "markdown",
   "metadata": {},
   "source": [
    "6. Compare the acceptance rates between those drivers who:\n",
    "\n",
    "- go to bars more than once a month, had passengers that were not a kid, and were not widowed *OR*\n",
    "- go to bars more than once a month and are under the age of 30 *OR*\n",
    "- go to cheap restaurants more than 4 times a month and income is less than 50K. "
   ]
  },
  {
   "cell_type": "code",
   "execution_count": 114,
   "metadata": {
    "ExecuteTime": {
     "end_time": "2024-03-03T23:30:34.624379Z",
     "start_time": "2024-03-03T23:30:34.611466Z"
    }
   },
   "outputs": [
    {
     "name": "stdout",
     "output_type": "stream",
     "text": [
      "Condition 1 - acceptance rate:  0.7132486388384754\n",
      "Condition 2 - acceptance rate:  0.7217391304347827\n",
      "Condition 3 - acceptance rate:  0.45348837209302323\n"
     ]
    }
   ],
   "source": [
    "# Filter based on the conditions provided\n",
    "# Condition 1: Go to bars more than once a month, had passengers that were not a kid, and were not widowed\n",
    "condition1 = (data_bar_coupon['Bar'].isin(['1~3', '4~8', 'gt8'])) & (data_bar_coupon['passanger'] != 'Kid(s)') & (data_bar_coupon['maritalStatus'] != 'Widowed')\n",
    "\n",
    "# Condition 2: Go to bars more than once a month and are under the age of 30\n",
    "# We've already handled the conversion of age strings to numeric values by creating and populating 'age_numeric' column on data dataframe\n",
    "condition2 = (data_bar_coupon['Bar'].isin(['1~3', '4~8', 'gt8'])) & (data_bar_coupon['age_numeric'] < 30)\n",
    "\n",
    "# Condition 3: Go to cheap restaurants more than 4 times a month and income is less than 50K \n",
    "condition3 = (data_bar_coupon['RestaurantLessThan20'].isin(['4~8', 'gt8'])) & (data_bar_coupon['income'].isin(['Less than $12500', '$12500 - $24999', '$25000 - $37499', '$37500 - $49999']))\n",
    "\n",
    "# Apply conditions to filter data set\n",
    "dbc_filtered_c1 = data_bar_coupon[condition1]\n",
    "dbc_filtered_c2 = data_bar_coupon[condition2]\n",
    "dbc_filtered_c3 = data_bar_coupon[condition3]\n",
    "\n",
    "# Calculate acceptance rates\n",
    "dbc_c1_acceptance_rates = dbc_filtered_c1['Y'].mean()\n",
    "dbc_c2_acceptance_rates = dbc_filtered_c2['Y'].mean()\n",
    "dbc_c3_acceptance_rates = dbc_filtered_c3['Y'].mean()\n",
    "\n",
    "print('Condition 1 - acceptance rate: ',dbc_c1_acceptance_rates)\n",
    "print('Condition 2 - acceptance rate: ',dbc_c2_acceptance_rates)\n",
    "print('Condition 3 - acceptance rate: ',dbc_c3_acceptance_rates)"
   ]
  },
  {
   "cell_type": "markdown",
   "source": [
    "The bar coupon acceptance rate was approximately 71% for drivers who go to bars more than once a month, had passengers that were not a kid, and were not widowed.\n",
    "\n",
    "The bar coupon acceptance rate was approximately 72% for drivers hwo go to bars more than once a month and are under the age of 30.\n",
    "\n",
    "The bar coupon acceptance rate was approximately 45% for drivers who go to cheap restaurants more than 4 times a month and income is less than 50K"
   ],
   "metadata": {
    "collapsed": false
   }
  },
  {
   "cell_type": "markdown",
   "metadata": {},
   "source": [
    "7.  Based on these observations, what do you hypothesize about drivers who accepted the bar coupons?"
   ]
  },
  {
   "cell_type": "markdown",
   "source": [
    "Based on the observations, we can hypothesize the following about drivers who accepted the bar coupons:\n",
    "\n",
    "High Frequency of Bar Visits: \n",
    "Drivers who frequently visit bars, especially more than 3 times a month, are significantly more likely to accept bar coupons. This suggests a strong correlation between the frequency of bar visits and the likelihood of accepting related coupons, possibly due to a higher value placed on such discounts by regular patrons.\n",
    "\n",
    "Age Factor: \n",
    "Younger drivers, particularly those under the age of 30, show a higher acceptance rate for bar coupons. This could indicate that younger demographics are more inclined towards social outings like bar visits and are more receptive to discounts associated with such activities.\n",
    "\n",
    "Marital Status and Occupation:\n",
    "Drivers who are not widowed and have occupations outside of farming, fishing, or forestry are more likely to accept bar coupons. This might reflect lifestyle or social patterns where individuals in certain occupations or marital statuses have more social engagements or value leisure activities differently.\n",
    "\n",
    "Economic and Dining Preferences: \n",
    "Drivers with specific economic and dining preferences, such as those who frequent cheap restaurants and have an income of less than 50K, have distinct acceptance rates. This could suggest that economic factors and personal dining habits influence the perceived value of bar coupons.\n",
    "\n",
    "General Acceptance Among Other Drivers: \n",
    "The relatively lower acceptance rate among \"all other drivers\" indicates that there are specific demographic and behavioral traits that significantly influence the likelihood of accepting bar coupons. This group likely includes drivers who do not frequently visit bars or do not fit into the specific demographic profiles outlined above.\n",
    "\n",
    "These hypotheses suggest that demographic factors (such as age and marital status), behavioral patterns (frequency of bar visits), economic status, and personal preferences (dining habits) play crucial roles in determining the likelihood of accepting bar coupons."
   ],
   "metadata": {
    "collapsed": false
   }
  },
  {
   "cell_type": "markdown",
   "metadata": {},
   "source": [
    "### Independent Investigation\n",
    "\n",
    "Using the bar coupon example as motivation, you are to explore one of the other coupon groups and try to determine the characteristics of passengers who accept the coupons.  "
   ]
  },
  {
   "cell_type": "markdown",
   "source": [
    "Looking at drivers who declined Carry Out & Take Away coupons:"
   ],
   "metadata": {
    "collapsed": false
   }
  },
  {
   "cell_type": "code",
   "execution_count": 115,
   "metadata": {
    "ExecuteTime": {
     "end_time": "2024-03-03T23:30:39.236201Z",
     "start_time": "2024-03-03T23:30:39.232254Z"
    }
   },
   "outputs": [],
   "source": [
    "# Filter for instances where Carry Out & Take away coupons were declined\n",
    "data_declined_carryout = data[(data['coupon']=='Carry out & Take away') & (data['Y']==False)]"
   ]
  },
  {
   "cell_type": "markdown",
   "source": [
    "Analyze dataset for interesting observations:"
   ],
   "metadata": {
    "collapsed": false
   }
  },
  {
   "cell_type": "code",
   "outputs": [
    {
     "name": "stdout",
     "output_type": "stream",
     "text": [
      "Distribution by Age:\n",
      " age_numeric\n",
      "21    19.905213\n",
      "26    19.905213\n",
      "31    18.325434\n",
      "50    12.322275\n",
      "36     9.952607\n",
      "41     9.320695\n",
      "46     5.371248\n",
      "20     4.897314\n",
      "Name: proportion, dtype: float64\n"
     ]
    },
    {
     "data": {
      "text/plain": "Text(0.5, 1.0, 'Coupon Declines by Age')"
     },
     "execution_count": 116,
     "metadata": {},
     "output_type": "execute_result"
    },
    {
     "data": {
      "text/plain": "<Figure size 640x480 with 1 Axes>",
      "image/png": "[encoded data removed]"
     },
     "metadata": {},
     "output_type": "display_data"
    }
   ],
   "source": [
    "# Look at declines by age\n",
    "distr_by_age = data_declined_carryout['age_numeric'].value_counts(normalize=True) * 100\n",
    "\n",
    "print('Distribution by Age:\\n', distr_by_age)\n",
    "\n",
    "# plot declines by Age\n",
    "sns.countplot(x='age', data=data_declined_carryout, palette='viridis', order = data_declined_carryout['age'].value_counts().index)\n",
    "plt.title('Coupon Declines by Age')"
   ],
   "metadata": {
    "collapsed": false,
    "ExecuteTime": {
     "end_time": "2024-03-03T23:30:40.664887Z",
     "start_time": "2024-03-03T23:30:40.594438Z"
    }
   },
   "execution_count": 116
  },
  {
   "cell_type": "code",
   "outputs": [
    {
     "name": "stdout",
     "output_type": "stream",
     "text": [
      "Distribution by Marital Status:\n",
      " maritalStatus\n",
      "Married partner      39.968404\n",
      "Single               37.124803\n",
      "Unmarried partner    17.535545\n",
      "Divorced              4.739336\n",
      "Widowed               0.631912\n",
      "Name: proportion, dtype: float64\n"
     ]
    },
    {
     "data": {
      "text/plain": "Text(0.5, 1.0, 'Coupon Declines by Marital Status')"
     },
     "execution_count": 117,
     "metadata": {},
     "output_type": "execute_result"
    },
    {
     "data": {
      "text/plain": "<Figure size 640x480 with 1 Axes>",
      "image/png": "[encoded data removed]"
     },
     "metadata": {},
     "output_type": "display_data"
    }
   ],
   "source": [
    "# Look at declines by marital status\n",
    "distr_by_marital_status = data_declined_carryout['maritalStatus'].value_counts(normalize=True) * 100\n",
    "\n",
    "print('Distribution by Marital Status:\\n', distr_by_marital_status)\n",
    "\n",
    "sns.countplot(x='maritalStatus', data=data_declined_carryout, palette='viridis', order = data_declined_carryout['maritalStatus'].value_counts().index)\n",
    "plt.title('Coupon Declines by Marital Status')"
   ],
   "metadata": {
    "collapsed": false,
    "ExecuteTime": {
     "end_time": "2024-03-03T23:30:41.416707Z",
     "start_time": "2024-03-03T23:30:41.360900Z"
    }
   },
   "execution_count": 117
  },
  {
   "cell_type": "code",
   "outputs": [
    {
     "name": "stdout",
     "output_type": "stream",
     "text": [
      "Distribution by Education:\n",
      " education\n",
      "Bachelors degree                          36.650869\n",
      "Some college - no degree                  30.015798\n",
      "Graduate degree (Masters or Doctorate)    19.589258\n",
      "High School Graduate                       7.266983\n",
      "Associates degree                          6.319115\n",
      "Some High School                           0.157978\n",
      "Name: proportion, dtype: float64\n"
     ]
    },
    {
     "data": {
      "text/plain": "(array([0, 1, 2, 3, 4, 5]),\n [Text(0, 0, 'Bachelors degree'),\n  Text(1, 0, 'Some college - no degree'),\n  Text(2, 0, 'Graduate degree (Masters or Doctorate)'),\n  Text(3, 0, 'High School Graduate'),\n  Text(4, 0, 'Associates degree'),\n  Text(5, 0, 'Some High School')])"
     },
     "execution_count": 118,
     "metadata": {},
     "output_type": "execute_result"
    },
    {
     "data": {
      "text/plain": "<Figure size 640x480 with 1 Axes>",
      "image/png": "[encoded data removed]"
     },
     "metadata": {},
     "output_type": "display_data"
    }
   ],
   "source": [
    "# Look at declines by education\n",
    "distr_by_education = data_declined_carryout['education'].value_counts(normalize=True) * 100\n",
    "\n",
    "print('Distribution by Education:\\n', distribution_by_education)\n",
    "\n",
    "sns.countplot(x='education', data=data_declined_carryout, palette='viridis', order = data_declined_carryout['education'].value_counts().index)\n",
    "plt.title('Coupon Declines by Education')\n",
    "plt.xticks(rotation=45)"
   ],
   "metadata": {
    "collapsed": false,
    "ExecuteTime": {
     "end_time": "2024-03-03T23:30:42.189721Z",
     "start_time": "2024-03-03T23:30:42.122429Z"
    }
   },
   "execution_count": 118
  },
  {
   "cell_type": "markdown",
   "source": [
    "Observations\n",
    "\n",
    "Age: The age groups of 21 and 26 years old are the most likely to decline Carry Out & Take away coupons, each constituting approximately 20% of the declines. This suggests that younger adults in their early to mid-twenties are more inclined to decline these coupons.\n",
    "\n",
    "Marital Status: The majority of declines come from individuals with a married partner (approximately 40%) and singles (approximately 37%). This indicates that marital status, particularly being married or single, plays a significant role in the likelihood of declining Carry Out & Take away coupons.\n",
    "\n",
    "Education: Individuals with a Bachelor's degree are the most likely to decline these coupons, making up approximately 37% of the declines, followed by those with some college but no degree (approximately 30%). This suggests a higher tendency to decline among those with higher education levels."
   ],
   "metadata": {
    "collapsed": false
   }
  },
  {
   "cell_type": "code",
   "outputs": [],
   "source": [],
   "metadata": {
    "collapsed": false
   }
  }
 ],
 "metadata": {
  "kernelspec": {
   "display_name": "Python 3",
   "language": "python",
   "name": "python3"
  },
  "language_info": {
   "codemirror_mode": {
    "name": "ipython",
    "version": 3
   },
   "file_extension": ".py",
   "mimetype": "text/x-python",
   "name": "python",
   "nbconvert_exporter": "python",
   "pygments_lexer": "ipython3",
   "version": "3.8.8"
  },
  "widgets": {
   "application/vnd.jupyter.widget-state+json": {
    "state": {},
    "version_major": 2,
    "version_minor": 0
   }
  }
 },
 "nbformat": 4,
 "nbformat_minor": 4
}
